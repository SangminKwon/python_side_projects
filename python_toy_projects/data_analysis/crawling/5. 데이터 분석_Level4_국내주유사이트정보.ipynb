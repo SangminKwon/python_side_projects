{
 "cells": [
  {
   "cell_type": "markdown",
   "id": "c51a5231-6b94-4213-a4fe-00c8ecd6382c",
   "metadata": {},
   "source": [
    "# 개발환경"
   ]
  },
  {
   "cell_type": "markdown",
   "id": "78ffdf59-04e4-4cbc-8e8c-08f04c9c3d82",
   "metadata": {},
   "source": [
    "- selenium 모듈 설치\n",
    "- 로컬 PC에서 진행\n",
    "- 웹 드라이버 필요 : ex) 크롬 드라이버\n",
    "    - 로컬 PC에서 설치된 크롬의 버전과 일치하는 웹 드라이버 사용\n",
    "    - 현재 크롬 버전 : 91.0.4472.77(공식 빌드) (64비트)\n",
    "    - 현 파일 옆에 위치 시킴\n",
    "        - ./chromedriver.exe"
   ]
  },
  {
   "cell_type": "code",
   "execution_count": 2,
   "id": "a647ad9e-a22a-4756-a511-a125b59978ba",
   "metadata": {},
   "outputs": [
    {
     "name": "stdout",
     "output_type": "stream",
     "text": [
      "Requirement already satisfied: selenium in c:\\users\\admin\\miniconda3\\lib\\site-packages (3.141.0)\n",
      "Requirement already satisfied: urllib3 in c:\\users\\admin\\miniconda3\\lib\\site-packages (from selenium) (1.25.11)\n"
     ]
    }
   ],
   "source": [
    "!pip install selenium"
   ]
  },
  {
   "cell_type": "code",
   "execution_count": 4,
   "id": "dc3964e9-138b-4825-9014-ddcd9dbbfcf2",
   "metadata": {},
   "outputs": [],
   "source": [
    "# 1. 모듈 가져오기\n",
    "from selenium import webdriver as wd\n",
    "# 시간 모듈\n",
    "import time"
   ]
  },
  {
   "cell_type": "code",
   "execution_count": 5,
   "id": "f5c33990-f42c-4f04-a052-43f6127c362e",
   "metadata": {},
   "outputs": [],
   "source": [
    "# 2. 웹드라이버 가동\n",
    "driver = wd.Chrome('C://Users//admin//Desktop//py_projects//crawling//chromedriver.exe')"
   ]
  },
  {
   "cell_type": "code",
   "execution_count": 6,
   "id": "babb0c2f-dbaf-47e6-8702-c951692989c1",
   "metadata": {},
   "outputs": [],
   "source": [
    "#3. 타겟 사이트 접속\n",
    "target_site = 'https://www.opinet.co.kr/searRgSelect.do'\n",
    "# 접속을 해보니 최소 2번은 요청해야 원하는 사이트로 진입이 된다.\n",
    "driver.get(target_site)\n",
    "time.sleep(2)\n",
    "driver.get(target_site)"
   ]
  },
  {
   "cell_type": "markdown",
   "id": "ebe76540-c175-48ae-bc70-6c6c72c0acb0",
   "metadata": {},
   "source": [
    "# 사이트 분석\n",
    "\n",
    "- 사이트에서 데이터를 입력/선택... 등등의 액션을 수행하고 서버로 전송할 때, 이 내용들을 모두 감싸고 있는 전송단위를 표현하는 태그는 <form>이다. (폼 전송이라고 한다.)\n",
    "- html이 서버와 통신하는 행위는 2가지 밖에 없다\n",
    "    - form 전송 -> 화면이 깜빡인다.\n",
    "    - ajax 백그라운드 통신 -> 화면이 그대로 유지됨\n",
    "- 사용자의 선택을 요구하는 태그\n",
    "    - select\n",
    "        - 선택할 후보들은 option으로 표현\n",
    "        - 선택한 값은 option의 value가 세팅된다\n",
    "        - 특정 option의 value값을 select의 value로 세팅 => 선택의 과정\n",
    "        - 시도를 표현하는 select를 특정\n",
    "            - #SIDO_NM0로 검색 (SIDO_NM0은 select의 id값)"
   ]
  },
  {
   "cell_type": "code",
   "execution_count": 7,
   "id": "a22a8a3f-5b9d-46fa-b505-67aee5718594",
   "metadata": {},
   "outputs": [
    {
     "name": "stdout",
     "output_type": "stream",
     "text": [
      "\n",
      "서울특별시\n",
      "부산광역시\n"
     ]
    }
   ],
   "source": [
    "# 4-0 시도 값을 세팅할 후보값을 추출한다\n",
    "# ex) 서울특별시, 부산광역시, ...\n",
    "# css selector : #SIDO_NM0 > option\n",
    "tmp = driver.find_elements_by_css_selector('#SIDO_NM0 > option')\n",
    "for option in tmp[0:3]:\n",
    "    print(option.get_attribute('value'))\n",
    "    #break"
   ]
  },
  {
   "cell_type": "code",
   "execution_count": 8,
   "id": "d0e54762-8c68-44bc-9b59-ef97e5865c11",
   "metadata": {},
   "outputs": [
    {
     "name": "stdout",
     "output_type": "stream",
     "text": [
      "[서울특별시]\n",
      "[부산광역시]\n",
      "[대구광역시]\n",
      "[인천광역시]\n",
      "[광주광역시]\n",
      "[대전광역시]\n",
      "[울산광역시]\n",
      "[세종특별자치시]\n",
      "[경기도]\n",
      "[강원도]\n",
      "[충청북도]\n",
      "[충청남도]\n",
      "[전라북도]\n",
      "[전라남도]\n",
      "[경상북도]\n",
      "[경상남도]\n",
      "[제주특별자치도]\n",
      "['서울특별시', '부산광역시', '대구광역시', '인천광역시', '광주광역시', '대전광역시', '울산광역시', '세종특별자치시', '경기도', '강원도', '충청북도', '충청남도', '전라북도', '전라남도', '경상북도', '경상남도', '제주특별자치도']\n"
     ]
    }
   ],
   "source": [
    "# 실습 1 : value만 다 뽑아서 리스트에 담으시오.(출력도 가능)\n",
    "# 실습 2 : value값이 없는것은 제외하고 담기\n",
    "# 조건식에 다음이 오면 무조건 False\n",
    "# 0, 0.0, '', [], {}, ()\n",
    "\n",
    "for option in tmp:\n",
    "    if option.get_attribute('value'):\n",
    "        print(f\"[{option.get_attribute('value')}]\")\n",
    "        \n",
    "sidos = [option.get_attribute('value') for option in tmp if option.get_attribute('value')]\n",
    "print(sidos)"
   ]
  },
  {
   "cell_type": "code",
   "execution_count": 9,
   "id": "e52c98a9-19c7-4c3d-a9c9-8a35aa6f1f9d",
   "metadata": {},
   "outputs": [
    {
     "name": "stdout",
     "output_type": "stream",
     "text": [
      "['강서구', '금정구', '기장군', '남구', '동구', '동래구', '부산진구', '북구', '사상구', '사하구', '서구', '수영구', '연제구', '영도구', '중구', '해운대구']\n"
     ]
    }
   ],
   "source": [
    "# 5초 간격으로 시도를 바꿔가면서 페이지를 로드하겠다.\n",
    "for sido in sidos[1:2]:\n",
    "    # 0. select 요소를 찾는다\n",
    "    select_element = driver.find_element_by_id('SIDO_NM0')\n",
    "    # 1. select 값을 해당 sido로 변경\n",
    "    select_element.send_keys(sido)\n",
    "    # 2. 5초 대기 -> 사이트는 새로운 시군구로 세팅됨\n",
    "    time.sleep(5)\n",
    "    # 로드된 시군구 화면에서 value값들을 추출한다.\n",
    "    sggs = driver.find_elements_by_css_selector('#SIGUNGU_NM0 > option')\n",
    "    # value가 부산진구일때, 값을 세팅\n",
    "    sigungus = [option.get_attribute('value')\n",
    "               for option in sggs\n",
    "               if option.get_attribute('value')]\n",
    "    print(sigungus)\n",
    "    for sigungu in sigungus:\n",
    "        driver.find_element_by_id('SIGUNGU_NM0').send_keys(sigungu)\n",
    "        # 5초대기 -> 사이트는 부산진구의 사이트로 \n",
    "        time.sleep(5)\n",
    "        driver.find_element_by_id('glopopd_excel').click()"
   ]
  },
  {
   "cell_type": "code",
   "execution_count": 14,
   "id": "bbc7b349-311f-409c-8518-86a5b94eaaed",
   "metadata": {},
   "outputs": [
    {
     "name": "stdout",
     "output_type": "stream",
     "text": [
      "['강서구', '금정구', '기장군', '남구', '동구', '동래구', '부산진구', '북구', '사상구', '사하구', '서구', '수영구', '연제구', '영도구', '중구', '해운대구']\n"
     ]
    },
    {
     "data": {
      "text/plain": [
       "<selenium.webdriver.remote.webelement.WebElement (session=\"fb2fee9d38b8fa02e6da75daeeab0781\", element=\"a0680167-cd3d-4a7f-80f0-60fdbca02c0c\")>"
      ]
     },
     "execution_count": 14,
     "metadata": {},
     "output_type": "execute_result"
    }
   ],
   "source": [
    "# 4-1 조작할 대상을 찾는다\n",
    "# id를 직접 지칭함으로 css selector 표현을 사용하지 않는다.\n",
    "# sido = driver.find_element_by_id('SIDO_NM0')"
   ]
  },
  {
   "cell_type": "code",
   "execution_count": 10,
   "id": "6f45a03b-b559-4048-bb32-c17fd0cced04",
   "metadata": {},
   "outputs": [],
   "source": [
    "#\n",
    "\n",
    "driver.close()\n",
    "driver.quit()\n"
   ]
  },
  {
   "cell_type": "code",
   "execution_count": null,
   "id": "bae4429d-c97a-429b-8619-8df5e994b0a9",
   "metadata": {},
   "outputs": [],
   "source": []
  }
 ],
 "metadata": {
  "kernelspec": {
   "display_name": "Python 3",
   "language": "python",
   "name": "python3"
  },
  "language_info": {
   "codemirror_mode": {
    "name": "ipython",
    "version": 3
   },
   "file_extension": ".py",
   "mimetype": "text/x-python",
   "name": "python",
   "nbconvert_exporter": "python",
   "pygments_lexer": "ipython3",
   "version": "3.9.1"
  }
 },
 "nbformat": 4,
 "nbformat_minor": 5
}
